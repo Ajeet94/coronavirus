{
 "cells": [
  {
   "cell_type": "code",
   "execution_count": 43,
   "metadata": {},
   "outputs": [],
   "source": [
    "import requests\n",
    "from bs4 import BeautifulSoup\n",
    "import numpy as np\n",
    "import pandas as pd\n",
    "import datetime\n",
    "from os.path import isfile"
   ]
  },
  {
   "cell_type": "code",
   "execution_count": 44,
   "metadata": {},
   "outputs": [],
   "source": [
    "filename=\"cases.csv\"\n",
    "df_head=pd.read_csv(filename,nrows=0)\n",
    "df_head_lst = list(df_head)[2:]\n",
    "data_types = {val:pd.Int64Dtype() for val in df_head_lst}"
   ]
  },
  {
   "cell_type": "code",
   "execution_count": 45,
   "metadata": {},
   "outputs": [],
   "source": [
    "\n",
    "df = pd.read_csv(filename,index_col=[0,1],dtype=data_types)"
   ]
  },
  {
   "cell_type": "code",
   "execution_count": 46,
   "metadata": {},
   "outputs": [
    {
     "output_type": "execute_result",
     "data": {
      "text/plain": "             2020-03-28 6pm GMT  2020-03-28 7pm GMT  2020-03-28 8pm GMT  \\\nChina                      3295                3295                3295   \nFrance                     1995                2314                2314   \nGermany                     403                 403                 430   \nIndia                      <NA>                <NA>                  20   \nItaly                     10023               10023               10023   \nSouth-Korea                <NA>                <NA>                 144   \nSpain                      5812                5812                5812   \nUK                         1019                1019                1019   \nUS                         1937                1943                1988   \nWorldwide                 29957               30299               30398   \n\n             2020-03-28 9pm GMT  2020-03-28 10pm GMT  2020-03-28 11pm GMT  \\\nChina                      3295                 3295                 3295   \nFrance                     2314                 2314                 2314   \nGermany                     430                  433                  433   \nIndia                        20                   24                   24   \nItaly                     10023                10023                10023   \nSouth-Korea                 144                  144                  144   \nSpain                      5820                 5982                 5982   \nUK                         1019                 1019                 1019   \nUS                         1993                 2008                 2047   \nWorldwide                 30433                30627                30671   \n\n             2020-03-29 12am GMT  2020-03-29 3am GMT  2020-03-29 7am GMT  \\\nChina                       3300                3300                3300   \nFrance                      2314                2314                2314   \nGermany                      433                 433                 433   \nIndia                         24                  24                  25   \nItaly                      10023               10023               10023   \nSouth-Korea                  144                 152                 152   \nSpain                       5982                5982                5982   \nUK                          1019                1019                1019   \nUS                          2211                2227                2229   \nWorldwide                  30846               30879               30891   \n\n             2020-03-29 8am GMT  2020-03-29 9am GMT  2020-03-29 10am GMT  \\\nChina                      3300                3300                 3300   \nFrance                     2314                2314                 2314   \nGermany                     433                 455                  455   \nIndia                        25                  25                   25   \nItaly                     10023               10023                10023   \nSouth-Korea                 152                 152                  152   \nSpain                      5982                5982                 5982   \nUK                         1019                1019                 1019   \nUS                         2229                2229                 2229   \nWorldwide                 30896               30935                31065   \n\n             2020-03-29 11am GMT  2020-03-29 12pm GMT  \nChina                       3300                 3300  \nFrance                      2314                 2314  \nGermany                      455                  455  \nIndia                         25                   25  \nItaly                      10023                10023  \nSouth-Korea                  152                  152  \nSpain                       6528                 6528  \nUK                          1019                 1019  \nUS                          2229                 2229  \nWorldwide                  31737                31771  ",
      "text/html": "<div>\n<style scoped>\n    .dataframe tbody tr th:only-of-type {\n        vertical-align: middle;\n    }\n\n    .dataframe tbody tr th {\n        vertical-align: top;\n    }\n\n    .dataframe thead th {\n        text-align: right;\n    }\n</style>\n<table border=\"1\" class=\"dataframe\">\n  <thead>\n    <tr style=\"text-align: right;\">\n      <th></th>\n      <th>2020-03-28 6pm GMT</th>\n      <th>2020-03-28 7pm GMT</th>\n      <th>2020-03-28 8pm GMT</th>\n      <th>2020-03-28 9pm GMT</th>\n      <th>2020-03-28 10pm GMT</th>\n      <th>2020-03-28 11pm GMT</th>\n      <th>2020-03-29 12am GMT</th>\n      <th>2020-03-29 3am GMT</th>\n      <th>2020-03-29 7am GMT</th>\n      <th>2020-03-29 8am GMT</th>\n      <th>2020-03-29 9am GMT</th>\n      <th>2020-03-29 10am GMT</th>\n      <th>2020-03-29 11am GMT</th>\n      <th>2020-03-29 12pm GMT</th>\n    </tr>\n  </thead>\n  <tbody>\n    <tr>\n      <th>China</th>\n      <td>3295</td>\n      <td>3295</td>\n      <td>3295</td>\n      <td>3295</td>\n      <td>3295</td>\n      <td>3295</td>\n      <td>3300</td>\n      <td>3300</td>\n      <td>3300</td>\n      <td>3300</td>\n      <td>3300</td>\n      <td>3300</td>\n      <td>3300</td>\n      <td>3300</td>\n    </tr>\n    <tr>\n      <th>France</th>\n      <td>1995</td>\n      <td>2314</td>\n      <td>2314</td>\n      <td>2314</td>\n      <td>2314</td>\n      <td>2314</td>\n      <td>2314</td>\n      <td>2314</td>\n      <td>2314</td>\n      <td>2314</td>\n      <td>2314</td>\n      <td>2314</td>\n      <td>2314</td>\n      <td>2314</td>\n    </tr>\n    <tr>\n      <th>Germany</th>\n      <td>403</td>\n      <td>403</td>\n      <td>430</td>\n      <td>430</td>\n      <td>433</td>\n      <td>433</td>\n      <td>433</td>\n      <td>433</td>\n      <td>433</td>\n      <td>433</td>\n      <td>455</td>\n      <td>455</td>\n      <td>455</td>\n      <td>455</td>\n    </tr>\n    <tr>\n      <th>India</th>\n      <td>&lt;NA&gt;</td>\n      <td>&lt;NA&gt;</td>\n      <td>20</td>\n      <td>20</td>\n      <td>24</td>\n      <td>24</td>\n      <td>24</td>\n      <td>24</td>\n      <td>25</td>\n      <td>25</td>\n      <td>25</td>\n      <td>25</td>\n      <td>25</td>\n      <td>25</td>\n    </tr>\n    <tr>\n      <th>Italy</th>\n      <td>10023</td>\n      <td>10023</td>\n      <td>10023</td>\n      <td>10023</td>\n      <td>10023</td>\n      <td>10023</td>\n      <td>10023</td>\n      <td>10023</td>\n      <td>10023</td>\n      <td>10023</td>\n      <td>10023</td>\n      <td>10023</td>\n      <td>10023</td>\n      <td>10023</td>\n    </tr>\n    <tr>\n      <th>South-Korea</th>\n      <td>&lt;NA&gt;</td>\n      <td>&lt;NA&gt;</td>\n      <td>144</td>\n      <td>144</td>\n      <td>144</td>\n      <td>144</td>\n      <td>144</td>\n      <td>152</td>\n      <td>152</td>\n      <td>152</td>\n      <td>152</td>\n      <td>152</td>\n      <td>152</td>\n      <td>152</td>\n    </tr>\n    <tr>\n      <th>Spain</th>\n      <td>5812</td>\n      <td>5812</td>\n      <td>5812</td>\n      <td>5820</td>\n      <td>5982</td>\n      <td>5982</td>\n      <td>5982</td>\n      <td>5982</td>\n      <td>5982</td>\n      <td>5982</td>\n      <td>5982</td>\n      <td>5982</td>\n      <td>6528</td>\n      <td>6528</td>\n    </tr>\n    <tr>\n      <th>UK</th>\n      <td>1019</td>\n      <td>1019</td>\n      <td>1019</td>\n      <td>1019</td>\n      <td>1019</td>\n      <td>1019</td>\n      <td>1019</td>\n      <td>1019</td>\n      <td>1019</td>\n      <td>1019</td>\n      <td>1019</td>\n      <td>1019</td>\n      <td>1019</td>\n      <td>1019</td>\n    </tr>\n    <tr>\n      <th>US</th>\n      <td>1937</td>\n      <td>1943</td>\n      <td>1988</td>\n      <td>1993</td>\n      <td>2008</td>\n      <td>2047</td>\n      <td>2211</td>\n      <td>2227</td>\n      <td>2229</td>\n      <td>2229</td>\n      <td>2229</td>\n      <td>2229</td>\n      <td>2229</td>\n      <td>2229</td>\n    </tr>\n    <tr>\n      <th>Worldwide</th>\n      <td>29957</td>\n      <td>30299</td>\n      <td>30398</td>\n      <td>30433</td>\n      <td>30627</td>\n      <td>30671</td>\n      <td>30846</td>\n      <td>30879</td>\n      <td>30891</td>\n      <td>30896</td>\n      <td>30935</td>\n      <td>31065</td>\n      <td>31737</td>\n      <td>31771</td>\n    </tr>\n  </tbody>\n</table>\n</div>"
     },
     "metadata": {},
     "execution_count": 46
    }
   ],
   "source": [
    "df.xs('Deaths',level=1)"
   ]
  },
  {
   "cell_type": "code",
   "execution_count": 48,
   "metadata": {},
   "outputs": [],
   "source": [
    "df"
   ]
  }
 ],
 "metadata": {
  "file_extension": ".py",
  "kernelspec": {
   "display_name": "Python 3",
   "language": "python",
   "name": "python3"
  },
  "language_info": {
   "codemirror_mode": {
    "name": "ipython",
    "version": 3
   },
   "file_extension": ".py",
   "mimetype": "text/x-python",
   "name": "python",
   "nbconvert_exporter": "python",
   "pygments_lexer": "ipython3",
   "version": "3.7.7-final"
  },
  "mimetype": "text/x-python",
  "name": "python",
  "npconvert_exporter": "python",
  "pygments_lexer": "ipython3",
  "version": 3
 },
 "nbformat": 4,
 "nbformat_minor": 2
}
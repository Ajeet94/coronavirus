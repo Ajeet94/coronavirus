{
 "nbformat": 4,
 "nbformat_minor": 2,
 "metadata": {
  "language_info": {
   "name": "python",
   "codemirror_mode": {
    "name": "ipython",
    "version": 3
   },
   "version": "3.7.7-final"
  },
  "orig_nbformat": 2,
  "file_extension": ".py",
  "mimetype": "text/x-python",
  "name": "python",
  "npconvert_exporter": "python",
  "pygments_lexer": "ipython3",
  "version": 3,
  "kernelspec": {
   "name": "python3",
   "display_name": "Python 3"
  }
 },
 "cells": [
  {
   "cell_type": "code",
   "execution_count": 1,
   "metadata": {},
   "outputs": [],
   "source": [
    "import requests\n",
    "from bs4 import BeautifulSoup\n",
    "import numpy as np\n",
    "import pandas as pd\n",
    "import datetime\n",
    "from os.path import isfile"
   ]
  },
  {
   "cell_type": "code",
   "execution_count": 76,
   "metadata": {},
   "outputs": [],
   "source": [
    "def get_url_resp(country=\"Worldwide\"):\n",
    "    base_url = \"https://www.worldometers.info/coronavirus/\"\n",
    "    headers = {\"User-Agent\":\"Mozilla/5.0 (Windows NT 10.0; Win64; x64; rv:74.0) Gecko/20100101 Firefox/74.0\"}\n",
    "    if country ==\"Worldwide\":\n",
    "        url = base_url\n",
    "    else:\n",
    "        url =base_url+\"country/\"+country+\"/\"\n",
    "    response = requests.get(url, headers = headers)\n",
    "    html = response.text\n",
    "    return BeautifulSoup(html,\"html.parser\")\n",
    "\n",
    "def format_case_numbers(soup,country=\"Worldwide\"):\n",
    "    if country == \"Worldwide\":\n",
    "        soup_selector = soup.select(\".col-md-6\")\n",
    "        val = [soup_selector[2].find_all(type=\"text/javascript\")[0],soup_selector[3].find_all(type=\"text/javascript\")[0]]\n",
    "    else:\n",
    "        soup_selector = soup.find_all(\"script\")\n",
    "        new_soup =[]\n",
    "        for i in range(len(soup_selector)):\n",
    "            if 'categories' in str(soup_selector[i]):\n",
    "                new_soup.append(soup_selector[i])\n",
    "        val = new_soup#[:2]\n",
    "    return val\n",
    "\n",
    "def get_right_element(val,Status = \"Cases\"):\n",
    "    string1 = f\"'Total Coronavirus {Status}'\"\n",
    "    new_soup =[]\n",
    "    for i in range(len(val)):\n",
    "        if string1 in str(val[i]):\n",
    "            new_soup.append(val[i])\n",
    "    return new_soup\n",
    "\n",
    "def get_both_elements(val):#,country=\"Worldwide\"):\n",
    "    # if country==\"Worldwide\":\n",
    "    #     return val\n",
    "    # else:\n",
    "    statuses_tuple = (\"Cases\",\"Deaths\")\n",
    "    new_soup = []\n",
    "    for sta in statuses_tuple:\n",
    "        new_soup.append(get_right_element(val,sta))\n",
    "    return new_soup\n",
    "\n",
    "def get_case_numbers_from_soup(val):#,country=\"Worldwide\",status=\"Cases\"):\n",
    "    #dates = val.get_text().rsplit(\"categories\",1)[1].split(\"[\")[1].split(\"]\")[0]\n",
    "    dates = val.get_text().rsplit(\"categories\")[1].split(\"[\")[1].split(\"]\")[0]\n",
    "    case_num = val.get_text().rsplit(\"data\")[1].split(\"[\")[1].split(\"]\")[0]\n",
    "    case_num_formatted=case_num.split(',')\n",
    "    dates_formatted=dates.split(',')\n",
    "    case_num_lst=[]\n",
    "    date_lst = []\n",
    "    # for lst in case_num_lst,date_lst:\n",
    "    #     lst.append(country)\n",
    "    #     lst.append(status)\n",
    "\n",
    "    for i in range(len(case_num_formatted)):\n",
    "        if case_num_formatted[i] == \"null\":\n",
    "            case_num_input = 0\n",
    "        else:\n",
    "            case_num_input = int(case_num_formatted[i])\n",
    "        case_num_lst.append(case_num_input)\n",
    "\n",
    "    for i in dates_formatted:\n",
    "        date_lst.append(i.replace('\"',''))\n",
    "    return zip(date_lst,case_num_lst)\n",
    "\n",
    "def get_case_dictionary(country=\"Worldwide\"):#,status=\"Cases\"):\n",
    "    soup = get_url_resp(country)\n",
    "    new_soup1 = format_case_numbers(soup,country)\n",
    "    val = get_both_elements(new_soup1)\n",
    "    get_right_element(val,Status = \"Cases\")\n",
    "    statuses_tuple = (\"Cases\",\"Deaths\")\n",
    "    statuses = {\n",
    "        \"Cases\":0,\n",
    "        \"Deaths\":1,\n",
    "    }\n",
    "    lst=[]\n",
    "    for sta in statuses_tuple:\n",
    "        lst.append(dict(get_case_numbers_from_soup(val[statuses[sta]])))\n",
    "    return lst\n",
    "    #return dict(get_case_numbers_from_soup(val[statuses[status]]))#,country,status)\n",
    "    # return get_case_numbers_from_soup(val[statuses[status]],country,status)\n"
   ]
  },
  {
   "cell_type": "code",
   "execution_count": 77,
   "metadata": {},
   "outputs": [
    {
     "output_type": "stream",
     "name": "stdout",
     "text": "Worldwide\n"
    },
    {
     "output_type": "error",
     "ename": "TypeError",
     "evalue": "'NoneType' object is not callable",
     "traceback": [
      "\u001b[1;31m---------------------------------------------------------------------------\u001b[0m",
      "\u001b[1;31mTypeError\u001b[0m                                 Traceback (most recent call last)",
      "\u001b[1;32m<ipython-input-77-7411faa865f3>\u001b[0m in \u001b[0;36m<module>\u001b[1;34m\u001b[0m\n\u001b[0;32m     12\u001b[0m \u001b[1;32mfor\u001b[0m \u001b[0mcountry\u001b[0m \u001b[1;32min\u001b[0m \u001b[0mCountries\u001b[0m\u001b[1;33m:\u001b[0m\u001b[1;33m\u001b[0m\u001b[1;33m\u001b[0m\u001b[0m\n\u001b[0;32m     13\u001b[0m     \u001b[0mprint\u001b[0m\u001b[1;33m(\u001b[0m\u001b[0mcountry\u001b[0m\u001b[1;33m)\u001b[0m\u001b[1;33m\u001b[0m\u001b[1;33m\u001b[0m\u001b[0m\n\u001b[1;32m---> 14\u001b[1;33m     \u001b[0mcountry_data\u001b[0m\u001b[1;33m=\u001b[0m\u001b[0mget_case_dictionary\u001b[0m\u001b[1;33m(\u001b[0m\u001b[0mcountry\u001b[0m\u001b[1;33m=\u001b[0m\u001b[0mcountry\u001b[0m\u001b[1;33m)\u001b[0m\u001b[1;33m\u001b[0m\u001b[1;33m\u001b[0m\u001b[0m\n\u001b[0m\u001b[0;32m     15\u001b[0m     \u001b[0mprint\u001b[0m\u001b[1;33m(\u001b[0m\u001b[0mcountry_data\u001b[0m\u001b[1;33m)\u001b[0m\u001b[1;33m\u001b[0m\u001b[1;33m\u001b[0m\u001b[0m\n\u001b[0;32m     16\u001b[0m     \u001b[0mdata\u001b[0m\u001b[1;33m.\u001b[0m\u001b[0mextend\u001b[0m\u001b[1;33m(\u001b[0m\u001b[0mcountry_data\u001b[0m\u001b[1;33m)\u001b[0m\u001b[1;33m\u001b[0m\u001b[1;33m\u001b[0m\u001b[0m\n",
      "\u001b[1;32m<ipython-input-76-fc174e0f9df1>\u001b[0m in \u001b[0;36mget_case_dictionary\u001b[1;34m(country)\u001b[0m\n\u001b[0;32m     78\u001b[0m     \u001b[0mlst\u001b[0m\u001b[1;33m=\u001b[0m\u001b[1;33m[\u001b[0m\u001b[1;33m]\u001b[0m\u001b[1;33m\u001b[0m\u001b[1;33m\u001b[0m\u001b[0m\n\u001b[0;32m     79\u001b[0m     \u001b[1;32mfor\u001b[0m \u001b[0msta\u001b[0m \u001b[1;32min\u001b[0m \u001b[0mstatuses_tuple\u001b[0m\u001b[1;33m:\u001b[0m\u001b[1;33m\u001b[0m\u001b[1;33m\u001b[0m\u001b[0m\n\u001b[1;32m---> 80\u001b[1;33m         \u001b[0mlst\u001b[0m\u001b[1;33m.\u001b[0m\u001b[0mappend\u001b[0m\u001b[1;33m(\u001b[0m\u001b[0mdict\u001b[0m\u001b[1;33m(\u001b[0m\u001b[0mget_case_numbers_from_soup\u001b[0m\u001b[1;33m(\u001b[0m\u001b[0mval\u001b[0m\u001b[1;33m[\u001b[0m\u001b[0mstatuses\u001b[0m\u001b[1;33m[\u001b[0m\u001b[0msta\u001b[0m\u001b[1;33m]\u001b[0m\u001b[1;33m]\u001b[0m\u001b[1;33m)\u001b[0m\u001b[1;33m)\u001b[0m\u001b[1;33m)\u001b[0m\u001b[1;33m\u001b[0m\u001b[1;33m\u001b[0m\u001b[0m\n\u001b[0m\u001b[0;32m     81\u001b[0m     \u001b[1;32mreturn\u001b[0m \u001b[0mlst\u001b[0m\u001b[1;33m\u001b[0m\u001b[1;33m\u001b[0m\u001b[0m\n\u001b[0;32m     82\u001b[0m     \u001b[1;31m#return dict(get_case_numbers_from_soup(val[statuses[status]]))#,country,status)\u001b[0m\u001b[1;33m\u001b[0m\u001b[1;33m\u001b[0m\u001b[1;33m\u001b[0m\u001b[0m\n",
      "\u001b[1;32m<ipython-input-76-fc174e0f9df1>\u001b[0m in \u001b[0;36mget_case_numbers_from_soup\u001b[1;34m(val)\u001b[0m\n\u001b[0;32m     45\u001b[0m     \u001b[1;31m# dates = val.get_text().rsplit(\"categories\")[1].split(\"[\")[1].split(\"]\")[0]\u001b[0m\u001b[1;33m\u001b[0m\u001b[1;33m\u001b[0m\u001b[1;33m\u001b[0m\u001b[0m\n\u001b[0;32m     46\u001b[0m     \u001b[1;31m# case_num = val.get_text().rsplit(\"data\")[1].split(\"[\")[1].split(\"]\")[0]\u001b[0m\u001b[1;33m\u001b[0m\u001b[1;33m\u001b[0m\u001b[1;33m\u001b[0m\u001b[0m\n\u001b[1;32m---> 47\u001b[1;33m     \u001b[0mdates\u001b[0m \u001b[1;33m=\u001b[0m \u001b[0mval\u001b[0m\u001b[1;33m[\u001b[0m\u001b[1;36m0\u001b[0m\u001b[1;33m]\u001b[0m\u001b[1;33m.\u001b[0m\u001b[0mrsplit\u001b[0m\u001b[1;33m(\u001b[0m\u001b[1;34m\"categories\"\u001b[0m\u001b[1;33m)\u001b[0m\u001b[1;33m[\u001b[0m\u001b[1;36m1\u001b[0m\u001b[1;33m]\u001b[0m\u001b[1;33m.\u001b[0m\u001b[0msplit\u001b[0m\u001b[1;33m(\u001b[0m\u001b[1;34m\"[\"\u001b[0m\u001b[1;33m)\u001b[0m\u001b[1;33m[\u001b[0m\u001b[1;36m1\u001b[0m\u001b[1;33m]\u001b[0m\u001b[1;33m.\u001b[0m\u001b[0msplit\u001b[0m\u001b[1;33m(\u001b[0m\u001b[1;34m\"]\"\u001b[0m\u001b[1;33m)\u001b[0m\u001b[1;33m[\u001b[0m\u001b[1;36m0\u001b[0m\u001b[1;33m]\u001b[0m\u001b[1;33m\u001b[0m\u001b[1;33m\u001b[0m\u001b[0m\n\u001b[0m\u001b[0;32m     48\u001b[0m     \u001b[0mcase_num\u001b[0m \u001b[1;33m=\u001b[0m \u001b[0mval\u001b[0m\u001b[1;33m[\u001b[0m\u001b[1;36m0\u001b[0m\u001b[1;33m]\u001b[0m\u001b[1;33m.\u001b[0m\u001b[0mrsplit\u001b[0m\u001b[1;33m(\u001b[0m\u001b[1;34m\"data\"\u001b[0m\u001b[1;33m)\u001b[0m\u001b[1;33m[\u001b[0m\u001b[1;36m1\u001b[0m\u001b[1;33m]\u001b[0m\u001b[1;33m.\u001b[0m\u001b[0msplit\u001b[0m\u001b[1;33m(\u001b[0m\u001b[1;34m\"[\"\u001b[0m\u001b[1;33m)\u001b[0m\u001b[1;33m[\u001b[0m\u001b[1;36m1\u001b[0m\u001b[1;33m]\u001b[0m\u001b[1;33m.\u001b[0m\u001b[0msplit\u001b[0m\u001b[1;33m(\u001b[0m\u001b[1;34m\"]\"\u001b[0m\u001b[1;33m)\u001b[0m\u001b[1;33m[\u001b[0m\u001b[1;36m0\u001b[0m\u001b[1;33m]\u001b[0m\u001b[1;33m\u001b[0m\u001b[1;33m\u001b[0m\u001b[0m\n\u001b[0;32m     49\u001b[0m     \u001b[0mcase_num_formatted\u001b[0m\u001b[1;33m=\u001b[0m\u001b[0mcase_num\u001b[0m\u001b[1;33m.\u001b[0m\u001b[0msplit\u001b[0m\u001b[1;33m(\u001b[0m\u001b[1;34m','\u001b[0m\u001b[1;33m)\u001b[0m\u001b[1;33m\u001b[0m\u001b[1;33m\u001b[0m\u001b[0m\n",
      "\u001b[1;31mTypeError\u001b[0m: 'NoneType' object is not callable"
     ]
    }
   ],
   "source": [
    "Countries = (\"Worldwide\",\"US\",\"Italy\",\"China\",\"Spain\",\"Germany\",\"France\",\"UK\",\"India\",\"South-Korea\")\n",
    "statuses_tuple = (\"Cases\",\"Deaths\")\n",
    "lst=[[],[]]\n",
    "for country in Countries:\n",
    "    for sta in statuses_tuple:\n",
    "        lst[0].append(country)\n",
    "        lst[1].append(sta)\n",
    "### WORKS TO HERE ###\n",
    "# lst = [[\"Worldwide\",\"US\"],[\"Cases\",\"Cases\"]]\n",
    "\n",
    "data=[]\n",
    "for country in Countries:\n",
    "    print(country)\n",
    "    country_data=get_case_dictionary(country=country)\n",
    "    print(country_data)\n",
    "    data.extend(country_data)\n",
    "print(data)"
   ]
  },
  {
   "cell_type": "code",
   "execution_count": null,
   "metadata": {},
   "outputs": [],
   "source": [
    "tuples = list(zip(*lst))\n",
    "index = pd.MultiIndex.from_tuples(tuples)\n",
    "cols = list(data[0].keys())\n",
    "data_types = {val:pd.Int64Dtype() for val in cols}"
   ]
  },
  {
   "cell_type": "code",
   "execution_count": 69,
   "metadata": {
    "tags": [
     "outputPrepend"
    ]
   },
   "outputs": [
    {
     "output_type": "error",
     "ename": "AttributeError",
     "evalue": "'list' object has no attribute 'get_text'",
     "traceback": [
      "\u001b[1;31m---------------------------------------------------------------------------\u001b[0m",
      "\u001b[1;31mAttributeError\u001b[0m                            Traceback (most recent call last)",
      "\u001b[1;32m<ipython-input-69-bc02a4f2f27f>\u001b[0m in \u001b[0;36m<module>\u001b[1;34m\u001b[0m\n\u001b[0;32m      9\u001b[0m \u001b[1;31m#\"'Total Coronavirus Deaths'\"\u001b[0m\u001b[1;33m\u001b[0m\u001b[1;33m\u001b[0m\u001b[1;33m\u001b[0m\u001b[0m\n\u001b[0;32m     10\u001b[0m \u001b[1;31m# print(val)\u001b[0m\u001b[1;33m\u001b[0m\u001b[1;33m\u001b[0m\u001b[1;33m\u001b[0m\u001b[0m\n\u001b[1;32m---> 11\u001b[1;33m \u001b[0mprint\u001b[0m\u001b[1;33m(\u001b[0m\u001b[0mval\u001b[0m\u001b[1;33m.\u001b[0m\u001b[0mget_text\u001b[0m\u001b[1;33m(\u001b[0m\u001b[1;33m)\u001b[0m\u001b[1;33m)\u001b[0m\u001b[1;33m\u001b[0m\u001b[1;33m\u001b[0m\u001b[0m\n\u001b[0m\u001b[0;32m     12\u001b[0m \u001b[1;31m# print(val[3])\u001b[0m\u001b[1;33m\u001b[0m\u001b[1;33m\u001b[0m\u001b[1;33m\u001b[0m\u001b[0m\n\u001b[0;32m     13\u001b[0m \u001b[1;31m# val=val[0]\u001b[0m\u001b[1;33m\u001b[0m\u001b[1;33m\u001b[0m\u001b[1;33m\u001b[0m\u001b[0m\n",
      "\u001b[1;31mAttributeError\u001b[0m: 'list' object has no attribute 'get_text'"
     ]
    }
   ],
   "source": [
    "country=\"Worldwide\"\n",
    "soup = get_url_resp(country)\n",
    "new_soup1 = format_case_numbers(soup,country)\n",
    "val = get_both_elements(new_soup1)\n",
    "\n",
    "# print(list(get_case_numbers_from_soup(val[0])))\n",
    "# print(list(get_case_numbers_from_soup(val[1])))\n",
    "#\"'Total Coronavirus Cases'\"\n",
    "#\"'Total Coronavirus Deaths'\"\n",
    "# print(val)\n",
    "print(val.get_text())\n",
    "# print(val[3])\n",
    "# val=val[0]\n",
    "# # print(val)\n",
    "# dates = val.get_text().rsplit(\"categories\")[1].split(\"[\")[1].split(\"]\")[0]\n",
    "# # print(dates)\n",
    "# case_num = val.get_text().rsplit(\"data\",1)[1].split(\"[\")[1].split(\"]\")[0]\n",
    "# case_num_formatted=case_num.split(',')\n",
    "# dates_formatted=dates.split(',')\n",
    "# print(dates_formatted)\n",
    "# case_num_lst=[]\n",
    "# date_lst = []"
   ]
  }
 ]
}
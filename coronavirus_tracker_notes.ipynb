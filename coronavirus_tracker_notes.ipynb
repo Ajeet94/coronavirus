{
 "nbformat": 4,
 "nbformat_minor": 2,
 "metadata": {
  "language_info": {
   "name": "python",
   "codemirror_mode": {
    "name": "ipython",
    "version": 3
   },
   "version": "3.7.7-final"
  },
  "orig_nbformat": 2,
  "file_extension": ".py",
  "mimetype": "text/x-python",
  "name": "python",
  "npconvert_exporter": "python",
  "pygments_lexer": "ipython3",
  "version": 3,
  "kernelspec": {
   "name": "python3",
   "display_name": "Python 3"
  }
 },
 "cells": [
  {
   "cell_type": "code",
   "execution_count": 50,
   "metadata": {},
   "outputs": [],
   "source": [
    "import requests\n",
    "from bs4 import BeautifulSoup\n",
    "import numpy as np\n",
    "import pandas as pd\n",
    "import datetime\n",
    "from os.path import isfile"
   ]
  },
  {
   "cell_type": "code",
   "execution_count": 337,
   "metadata": {},
   "outputs": [],
   "source": [
    "def get_url_resp(country=\"Worldwide\"):\n",
    "    base_url = \"https://www.worldometers.info/coronavirus/\"\n",
    "    headers = {\"User-Agent\":\"Mozilla/5.0 (Windows NT 10.0; Win64; x64; rv:74.0) Gecko/20100101 Firefox/74.0\"}\n",
    "    if country ==\"Worldwide\":\n",
    "        url = base_url\n",
    "    else:\n",
    "        url =base_url+\"country/\"+country+\"/\"\n",
    "    response = requests.get(url, headers = headers)\n",
    "    html = response.text\n",
    "    return BeautifulSoup(html,\"html.parser\")\n",
    "\n",
    "def format_case_numbers(soup,country=\"Worldwide\"):\n",
    "    if country == \"Worldwide\":\n",
    "        soup_selector = soup.select(\".col-md-6\")\n",
    "        val = [soup_selector[2].find_all(type=\"text/javascript\")[0],soup_selector[3].find_all(type=\"text/javascript\")[0]]\n",
    "    else:\n",
    "        soup_selector = soup.find_all(\"script\")\n",
    "        new_soup =[]\n",
    "        for i in range(len(soup_selector)):\n",
    "            if 'categories' in str(soup_selector[i]):\n",
    "                new_soup.append(soup_selector[i])\n",
    "        val = new_soup[:2]\n",
    "    return val\n",
    "\n",
    "def get_case_numbers_from_soup(val):#,country=\"Worldwide\",status=\"Cases\"):\n",
    "    dates = val.get_text().rsplit(\"categories\",1)[1].split(\"[\")[1].split(\"]\")[0]\n",
    "    case_num = val.get_text().rsplit(\"data\",1)[1].split(\"[\")[1].split(\"]\")[0]\n",
    "    case_num_formatted=case_num.split(',')\n",
    "    dates_formatted=dates.split(',')\n",
    "    case_num_lst=[]\n",
    "    date_lst = []\n",
    "    # for lst in case_num_lst,date_lst:\n",
    "    #     lst.append(country)\n",
    "    #     lst.append(status)\n",
    "\n",
    "    for i in range(len(case_num_formatted)):\n",
    "        if case_num_formatted[i] == \"null\":\n",
    "            case_num_input = 0\n",
    "        else:\n",
    "            case_num_input = int(case_num_formatted[i])\n",
    "        case_num_lst.append(case_num_input)\n",
    "\n",
    "    for i in dates_formatted:\n",
    "        date_lst.append(i.replace('\"',''))\n",
    "    return zip(date_lst,case_num_lst)\n",
    "\n",
    "def get_case_dictionary(country=\"Worldwide\"):#,status=\"Cases\"):\n",
    "    soup = get_url_resp(country)\n",
    "    val = format_case_numbers(soup,country)\n",
    "    statuses_tuple = (\"Cases\",\"Deaths\")\n",
    "    statuses = {\n",
    "        \"Cases\":0,\n",
    "        \"Deaths\":1,\n",
    "    }\n",
    "    lst=[]\n",
    "    for sta in statuses_tuple:\n",
    "        lst.append(dict(get_case_numbers_from_soup(val[statuses[sta]])))\n",
    "    return lst\n",
    "    #return dict(get_case_numbers_from_soup(val[statuses[status]]))#,country,status)\n",
    "    # return get_case_numbers_from_soup(val[statuses[status]],country,status)\n",
    ""
   ]
  },
  {
   "cell_type": "code",
   "execution_count": 339,
   "metadata": {},
   "outputs": [
    {
     "output_type": "stream",
     "name": "stdout",
     "text": "[['Worldwide', 'Worldwide', 'US', 'US', 'Italy', 'Italy', 'China', 'China', 'Spain', 'Spain', 'Germany', 'Germany', 'France', 'France', 'UK', 'UK', 'India', 'India', 'South-Korea', 'South-Korea'], ['Cases', 'Deaths', 'Cases', 'Deaths', 'Cases', 'Deaths', 'Cases', 'Deaths', 'Cases', 'Deaths', 'Cases', 'Deaths', 'Cases', 'Deaths', 'Cases', 'Deaths', 'Cases', 'Deaths', 'Cases', 'Deaths']]\n[{'Jan 22': 580, 'Jan 23': 845, 'Jan 24': 1317, 'Jan 25': 2015, 'Jan 26': 2800, 'Jan 27': 4581, 'Jan 28': 6058, 'Jan 29': 7813, 'Jan 30': 9823, 'Jan 31': 11950, 'Feb 01': 14553, 'Feb 02': 17391, 'Feb 03': 20630, 'Feb 04': 24545, 'Feb 05': 28266, 'Feb 06': 31439, 'Feb 07': 34876, 'Feb 08': 37552, 'Feb 09': 40553, 'Feb 10': 43099, 'Feb 11': 45134, 'Feb 12': 59287, 'Feb 13': 64438, 'Feb 14': 67100, 'Feb 15': 69197, 'Feb 16': 71329, 'Feb 17': 73332, 'Feb 18': 75184, 'Feb 19': 75700, 'Feb 20': 76677, 'Feb 21': 77673, 'Feb 22': 78651, 'Feb 23': 79205, 'Feb 24': 80087, 'Feb 25': 80828, 'Feb 26': 81820, 'Feb 27': 83112, 'Feb 28': 84615, 'Feb 29': 86604, 'Mar 01': 88585, 'Mar 02': 90443, 'Mar 03': 93016, 'Mar 04': 95314, 'Mar 05': 98425, 'Mar 06': 102050, 'Mar 07': 106099, 'Mar 08': 109991, 'Mar 09': 114381, 'Mar 10': 118948, 'Mar 11': 126214, 'Mar 12': 134509, 'Mar 13': 145416, 'Mar 14': 156475, 'Mar 15': 169517, 'Mar 16': 182414, 'Mar 17': 198159, 'Mar 18': 218744, 'Mar 19': 244902, 'Mar 20': 275550, 'Mar 21': 304979, 'Mar 22': 337459, 'Mar 23': 378830, 'Mar 24': 422574, 'Mar 25': 471035, 'Mar 26': 531865, 'Mar 27': 596366, 'Mar 28': 663127}, {'Jan 22': 17, 'Jan 23': 25, 'Jan 24': 41, 'Jan 25': 56, 'Jan 26': 80, 'Jan 27': 106, 'Jan 28': 132, 'Jan 29': 170, 'Jan 30': 213, 'Jan 31': 259, 'Feb 01': 304, 'Feb 02': 362, 'Feb 03': 426, 'Feb 04': 492, 'Feb 05': 565, 'Feb 06': 638, 'Feb 07': 724, 'Feb 08': 813, 'Feb 09': 910, 'Feb 10': 1018, 'Feb 11': 1115, 'Feb 12': 1261, 'Feb 13': 1383, 'Feb 14': 1526, 'Feb 15': 1669, 'Feb 16': 1775, 'Feb 17': 1873, 'Feb 18': 2009, 'Feb 19': 2126, 'Feb 20': 2247, 'Feb 21': 2360, 'Feb 22': 2460, 'Feb 23': 2618, 'Feb 24': 2699, 'Feb 25': 2763, 'Feb 26': 2800, 'Feb 27': 2858, 'Feb 28': 2923, 'Feb 29': 2977, 'Mar 01': 3050, 'Mar 02': 3117, 'Mar 03': 3202, 'Mar 04': 3285, 'Mar 05': 3387, 'Mar 06': 3494, 'Mar 07': 3599, 'Mar 08': 3827, 'Mar 09': 4025, 'Mar 10': 4296, 'Mar 11': 4628, 'Mar 12': 4981, 'Mar 13': 5428, 'Mar 14': 5833, 'Mar 15': 6520, 'Mar 16': 7162, 'Mar 17': 7979, 'Mar 18': 8951, 'Mar 19': 10030, 'Mar 20': 11386, 'Mar 21': 13011, 'Mar 22': 14640, 'Mar 23': 16513, 'Mar 24': 18894, 'Mar 25': 21282, 'Mar 26': 24073, 'Mar 27': 27343, 'Mar 28': 30861}]\n[{'Feb 15': 15, 'Feb 16': 15, 'Feb 17': 15, 'Feb 18': 15, 'Feb 19': 15, 'Feb 20': 15, 'Feb 21': 35, 'Feb 22': 35, 'Feb 23': 35, 'Feb 24': 53, 'Feb 25': 57, 'Feb 26': 60, 'Feb 27': 60, 'Feb 28': 63, 'Feb 29': 68, 'Mar 01': 75, 'Mar 02': 100, 'Mar 03': 124, 'Mar 04': 158, 'Mar 05': 221, 'Mar 06': 319, 'Mar 07': 435, 'Mar 08': 541, 'Mar 09': 704, 'Mar 10': 994, 'Mar 11': 1301, 'Mar 12': 1630, 'Mar 13': 2183, 'Mar 14': 2770, 'Mar 15': 3613, 'Mar 16': 4596, 'Mar 17': 6344, 'Mar 18': 9197, 'Mar 19': 13779, 'Mar 20': 19367, 'Mar 21': 24192, 'Mar 22': 33592, 'Mar 23': 43781, 'Mar 24': 54856, 'Mar 25': 68211, 'Mar 26': 85435, 'Mar 27': 104126, 'Mar 28': 123578}, {'Feb 15': 0, 'Feb 16': 0, 'Feb 17': 0, 'Feb 18': 0, 'Feb 19': 0, 'Feb 20': 0, 'Feb 21': 20, 'Feb 22': 0, 'Feb 23': 0, 'Feb 24': 18, 'Feb 25': 4, 'Feb 26': 3, 'Feb 27': 0, 'Feb 28': 3, 'Feb 29': 5, 'Mar 01': 7, 'Mar 02': 25, 'Mar 03': 24, 'Mar 04': 34, 'Mar 05': 63, 'Mar 06': 98, 'Mar 07': 116, 'Mar 08': 106, 'Mar 09': 163, 'Mar 10': 290, 'Mar 11': 307, 'Mar 12': 329, 'Mar 13': 553, 'Mar 14': 587, 'Mar 15': 843, 'Mar 16': 983, 'Mar 17': 1748, 'Mar 18': 2853, 'Mar 19': 4582, 'Mar 20': 5588, 'Mar 21': 4825, 'Mar 22': 9400, 'Mar 23': 10189, 'Mar 24': 11075, 'Mar 25': 13355, 'Mar 26': 17224, 'Mar 27': 18691, 'Mar 28': 19452}]\n"
    },
    {
     "output_type": "error",
     "ename": "ValueError",
     "evalue": "invalid literal for int() with base 10: '\"nan\"'",
     "traceback": [
      "\u001b[1;31m---------------------------------------------------------------------------\u001b[0m",
      "\u001b[1;31mValueError\u001b[0m                                Traceback (most recent call last)",
      "\u001b[1;32m<ipython-input-339-8ce2cc502454>\u001b[0m in \u001b[0;36m<module>\u001b[1;34m\u001b[0m\n\u001b[0;32m     11\u001b[0m \u001b[0mdata\u001b[0m\u001b[1;33m=\u001b[0m\u001b[1;33m[\u001b[0m\u001b[1;33m]\u001b[0m\u001b[1;33m\u001b[0m\u001b[1;33m\u001b[0m\u001b[0m\n\u001b[0;32m     12\u001b[0m \u001b[1;32mfor\u001b[0m \u001b[0mcountry\u001b[0m \u001b[1;32min\u001b[0m \u001b[0mCountries\u001b[0m\u001b[1;33m:\u001b[0m\u001b[1;33m\u001b[0m\u001b[1;33m\u001b[0m\u001b[0m\n\u001b[1;32m---> 13\u001b[1;33m     \u001b[0mcountry_data\u001b[0m\u001b[1;33m=\u001b[0m\u001b[0mget_case_dictionary\u001b[0m\u001b[1;33m(\u001b[0m\u001b[0mcountry\u001b[0m\u001b[1;33m=\u001b[0m\u001b[0mcountry\u001b[0m\u001b[1;33m)\u001b[0m\u001b[1;33m\u001b[0m\u001b[1;33m\u001b[0m\u001b[0m\n\u001b[0m\u001b[0;32m     14\u001b[0m     \u001b[0mprint\u001b[0m\u001b[1;33m(\u001b[0m\u001b[0mcountry_data\u001b[0m\u001b[1;33m)\u001b[0m\u001b[1;33m\u001b[0m\u001b[1;33m\u001b[0m\u001b[0m\n\u001b[0;32m     15\u001b[0m     \u001b[0mdata\u001b[0m\u001b[1;33m.\u001b[0m\u001b[0mextend\u001b[0m\u001b[1;33m(\u001b[0m\u001b[0mcountry_data\u001b[0m\u001b[1;33m)\u001b[0m\u001b[1;33m\u001b[0m\u001b[1;33m\u001b[0m\u001b[0m\n",
      "\u001b[1;32m<ipython-input-337-f4169114e67a>\u001b[0m in \u001b[0;36mget_case_dictionary\u001b[1;34m(country)\u001b[0m\n\u001b[0;32m     55\u001b[0m     \u001b[0mlst\u001b[0m\u001b[1;33m=\u001b[0m\u001b[1;33m[\u001b[0m\u001b[1;33m]\u001b[0m\u001b[1;33m\u001b[0m\u001b[1;33m\u001b[0m\u001b[0m\n\u001b[0;32m     56\u001b[0m     \u001b[1;32mfor\u001b[0m \u001b[0msta\u001b[0m \u001b[1;32min\u001b[0m \u001b[0mstatuses_tuple\u001b[0m\u001b[1;33m:\u001b[0m\u001b[1;33m\u001b[0m\u001b[1;33m\u001b[0m\u001b[0m\n\u001b[1;32m---> 57\u001b[1;33m         \u001b[0mlst\u001b[0m\u001b[1;33m.\u001b[0m\u001b[0mappend\u001b[0m\u001b[1;33m(\u001b[0m\u001b[0mdict\u001b[0m\u001b[1;33m(\u001b[0m\u001b[0mget_case_numbers_from_soup\u001b[0m\u001b[1;33m(\u001b[0m\u001b[0mval\u001b[0m\u001b[1;33m[\u001b[0m\u001b[0mstatuses\u001b[0m\u001b[1;33m[\u001b[0m\u001b[0msta\u001b[0m\u001b[1;33m]\u001b[0m\u001b[1;33m]\u001b[0m\u001b[1;33m)\u001b[0m\u001b[1;33m)\u001b[0m\u001b[1;33m)\u001b[0m\u001b[1;33m\u001b[0m\u001b[1;33m\u001b[0m\u001b[0m\n\u001b[0m\u001b[0;32m     58\u001b[0m     \u001b[1;32mreturn\u001b[0m \u001b[0mlst\u001b[0m\u001b[1;33m\u001b[0m\u001b[1;33m\u001b[0m\u001b[0m\n\u001b[0;32m     59\u001b[0m     \u001b[1;31m#return dict(get_case_numbers_from_soup(val[statuses[status]]))#,country,status)\u001b[0m\u001b[1;33m\u001b[0m\u001b[1;33m\u001b[0m\u001b[1;33m\u001b[0m\u001b[0m\n",
      "\u001b[1;32m<ipython-input-337-f4169114e67a>\u001b[0m in \u001b[0;36mget_case_numbers_from_soup\u001b[1;34m(val)\u001b[0m\n\u001b[0;32m     38\u001b[0m             \u001b[0mcase_num_input\u001b[0m \u001b[1;33m=\u001b[0m \u001b[1;36m0\u001b[0m\u001b[1;33m\u001b[0m\u001b[1;33m\u001b[0m\u001b[0m\n\u001b[0;32m     39\u001b[0m         \u001b[1;32melse\u001b[0m\u001b[1;33m:\u001b[0m\u001b[1;33m\u001b[0m\u001b[1;33m\u001b[0m\u001b[0m\n\u001b[1;32m---> 40\u001b[1;33m             \u001b[0mcase_num_input\u001b[0m \u001b[1;33m=\u001b[0m \u001b[0mint\u001b[0m\u001b[1;33m(\u001b[0m\u001b[0mcase_num_formatted\u001b[0m\u001b[1;33m[\u001b[0m\u001b[0mi\u001b[0m\u001b[1;33m]\u001b[0m\u001b[1;33m)\u001b[0m\u001b[1;33m\u001b[0m\u001b[1;33m\u001b[0m\u001b[0m\n\u001b[0m\u001b[0;32m     41\u001b[0m         \u001b[0mcase_num_lst\u001b[0m\u001b[1;33m.\u001b[0m\u001b[0mappend\u001b[0m\u001b[1;33m(\u001b[0m\u001b[0mcase_num_input\u001b[0m\u001b[1;33m)\u001b[0m\u001b[1;33m\u001b[0m\u001b[1;33m\u001b[0m\u001b[0m\n\u001b[0;32m     42\u001b[0m \u001b[1;33m\u001b[0m\u001b[0m\n",
      "\u001b[1;31mValueError\u001b[0m: invalid literal for int() with base 10: '\"nan\"'"
     ]
    }
   ],
   "source": [
    "Countries = (\"Worldwide\",\"US\",\"Italy\",\"China\",\"Spain\",\"Germany\",\"France\",\"UK\",\"India\",\"South-Korea\")\n",
    "statuses_tuple = (\"Cases\",\"Deaths\")\n",
    "lst=[[],[]]\n",
    "for country in Countries:\n",
    "    for sta in statuses_tuple:\n",
    "        lst[0].append(country)\n",
    "        lst[1].append(sta)\n",
    "### WORKS TO HERE ###\n",
    "# lst = [[\"Worldwide\",\"US\"],[\"Cases\",\"Cases\"]]\n",
    "\n",
    "data=[]\n",
    "for country in Countries:\n",
    "    country_data=get_case_dictionary(country=country)\n",
    "    print(country_data)\n",
    "    data.extend(country_data)\n",
    "print(data)"
   ]
  },
  {
   "cell_type": "code",
   "execution_count": 325,
   "metadata": {},
   "outputs": [],
   "source": [
    "tuples = list(zip(*lst))\n",
    "index = pd.MultiIndex.from_tuples(tuples)\n",
    "cols = list(data[0].keys())\n",
    "data_types = {val:pd.Int64Dtype() for val in cols}"
   ]
  },
  {
   "cell_type": "code",
   "execution_count": 327,
   "metadata": {},
   "outputs": [
    {
     "output_type": "execute_result",
     "data": {
      "text/plain": "                 Jan 22  Jan 23  Jan 24  Jan 25  Jan 26  Jan 27  Jan 28  \\\nWorldwide Cases   580.0   845.0  1317.0  2015.0  2800.0  4581.0  6058.0   \nUS        Cases     NaN     NaN     NaN     NaN     NaN     NaN     NaN   \n\n                 Jan 29  Jan 30   Jan 31  ...  Mar 19  Mar 20  Mar 21  Mar 22  \\\nWorldwide Cases  7813.0  9823.0  11950.0  ...  244902  275550  304979  337459   \nUS        Cases     NaN     NaN      NaN  ...   13779   19367   24192   33592   \n\n                 Mar 23  Mar 24  Mar 25  Mar 26  Mar 27  Mar 28  \nWorldwide Cases  378830  422574  471035  531865  596366  663127  \nUS        Cases   43781   54856   68211   85435  104126  123578  \n\n[2 rows x 67 columns]",
      "text/html": "<div>\n<style scoped>\n    .dataframe tbody tr th:only-of-type {\n        vertical-align: middle;\n    }\n\n    .dataframe tbody tr th {\n        vertical-align: top;\n    }\n\n    .dataframe thead th {\n        text-align: right;\n    }\n</style>\n<table border=\"1\" class=\"dataframe\">\n  <thead>\n    <tr style=\"text-align: right;\">\n      <th></th>\n      <th></th>\n      <th>Jan 22</th>\n      <th>Jan 23</th>\n      <th>Jan 24</th>\n      <th>Jan 25</th>\n      <th>Jan 26</th>\n      <th>Jan 27</th>\n      <th>Jan 28</th>\n      <th>Jan 29</th>\n      <th>Jan 30</th>\n      <th>Jan 31</th>\n      <th>...</th>\n      <th>Mar 19</th>\n      <th>Mar 20</th>\n      <th>Mar 21</th>\n      <th>Mar 22</th>\n      <th>Mar 23</th>\n      <th>Mar 24</th>\n      <th>Mar 25</th>\n      <th>Mar 26</th>\n      <th>Mar 27</th>\n      <th>Mar 28</th>\n    </tr>\n  </thead>\n  <tbody>\n    <tr>\n      <th>Worldwide</th>\n      <th>Cases</th>\n      <td>580.0</td>\n      <td>845.0</td>\n      <td>1317.0</td>\n      <td>2015.0</td>\n      <td>2800.0</td>\n      <td>4581.0</td>\n      <td>6058.0</td>\n      <td>7813.0</td>\n      <td>9823.0</td>\n      <td>11950.0</td>\n      <td>...</td>\n      <td>244902</td>\n      <td>275550</td>\n      <td>304979</td>\n      <td>337459</td>\n      <td>378830</td>\n      <td>422574</td>\n      <td>471035</td>\n      <td>531865</td>\n      <td>596366</td>\n      <td>663127</td>\n    </tr>\n    <tr>\n      <th>US</th>\n      <th>Cases</th>\n      <td>NaN</td>\n      <td>NaN</td>\n      <td>NaN</td>\n      <td>NaN</td>\n      <td>NaN</td>\n      <td>NaN</td>\n      <td>NaN</td>\n      <td>NaN</td>\n      <td>NaN</td>\n      <td>NaN</td>\n      <td>...</td>\n      <td>13779</td>\n      <td>19367</td>\n      <td>24192</td>\n      <td>33592</td>\n      <td>43781</td>\n      <td>54856</td>\n      <td>68211</td>\n      <td>85435</td>\n      <td>104126</td>\n      <td>123578</td>\n    </tr>\n  </tbody>\n</table>\n<p>2 rows × 67 columns</p>\n</div>"
     },
     "metadata": {},
     "execution_count": 327
    }
   ],
   "source": [
    "df=pd.DataFrame(data, index=index, columns=cols)#,dtype=data_types)\n",
    "df"
   ]
  }
 ]
}